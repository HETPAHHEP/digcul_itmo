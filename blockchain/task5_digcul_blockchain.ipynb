{
  "nbformat": 4,
  "nbformat_minor": 0,
  "metadata": {
    "colab": {
      "name": "task5_digcul_blockchain.ipynb",
      "provenance": [],
      "collapsed_sections": []
    },
    "kernelspec": {
      "name": "python3",
      "display_name": "Python 3"
    },
    "language_info": {
      "name": "python"
    }
  },
  "cells": [
    {
      "cell_type": "markdown",
      "metadata": {
        "id": "5qdUhkbhsqvv"
      },
      "source": [
        "**Код для выполнения 5 задания из курса Цифровой экономики.**"
      ]
    },
    {
      "cell_type": "code",
      "metadata": {
        "colab": {
          "base_uri": "https://localhost:8080/"
        },
        "id": "T0SryA39Z2Es",
        "outputId": "de35c4aa-9303-4a50-fb05-3c1edac579ab"
      },
      "source": [
        "import hashlib\n",
        "\n",
        "first = input('Введите хэш первого долга: ')\n",
        "second = input('Введите сумму второго долга: ')\n",
        "second = hashlib.sha256(second.encode()).hexdigest()\n",
        "wish = input('Хотите вывести все хэши или только один(1)?\\n')\n",
        "\n",
        "\n",
        "for i in range(1, 10000 + 1):\n",
        "    check = first + second\n",
        "    numb_hash = hashlib.sha256(str(i).encode()).hexdigest()\n",
        "    result = check + numb_hash\n",
        "    result = hashlib.sha256(str(result).encode()).hexdigest()\n",
        "    if result[:2] == '00':\n",
        "      print('\\nDone!')\n",
        "      print(f'Вот число: {i}')\n",
        "      print(f'А это хэш:\\n{result}')\n",
        "      if wish == '1':\n",
        "        break\n"
      ],
      "execution_count": null,
      "outputs": [
        {
          "output_type": "stream",
          "name": "stdout",
          "text": [
            "Введите хэш первого долга: 00b11082e21b95fe5d1af9d6d59e1afced20d124548968f1005e154b0ec1ee6c\n",
            "Введите сумму второго долга: 723\n",
            "Хотите вывести все хэши или только один(1)?\n",
            "1\n",
            "\n",
            "Done!\n",
            "Вот число: 535\n",
            "А это хэш:\n",
            "001efe5ee4f4147de514ffeb8e1df55d5dc0f92ffc975e722705000e49fa0775\n"
          ]
        }
      ]
    }
  ]
}
